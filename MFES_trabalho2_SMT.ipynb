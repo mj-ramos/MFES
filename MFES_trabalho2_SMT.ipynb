{
  "nbformat": 4,
  "nbformat_minor": 0,
  "metadata": {
    "colab": {
      "provenance": [],
      "collapsed_sections": []
    },
    "kernelspec": {
      "name": "python3",
      "display_name": "Python 3"
    },
    "language_info": {
      "name": "python"
    }
  },
  "cells": [
    {
      "cell_type": "markdown",
      "metadata": {
        "id": "DE07Np-Dc-_h"
      },
      "source": [
        "#**Trabalho de casa 2** - SMT Solving\n",
        "  \n",
        "#### Número: **pg47483**\n",
        "#### Nome: **Maria José Costa Ramos**\n",
        "#### Curso:  **Mestrado em Engenharia Informática**\n",
        "#### Disciplina: **Metodos Formais em Engenharia de Software**\n"
      ]
    },
    {
      "cell_type": "markdown",
      "metadata": {
        "id": "M0dzzCC70uKt"
      },
      "source": [
        "## **Futoshiki Puzzle**\n",
        "\n",
        "###**Problema**\n",
        "Futoshiki é um puzzle lógico japonês jogado num tabuleiro N×N, onde são assinaladas restrições de desigualdade entre entre algumas posições contíguas do tabuleiro.  \n",
        "O objetivo é colocar os números 1..N de forma a que cada número não apareça repetido em cada linha nem em cada coluna do tabuleiro, e que as relações de desigualdade assinaladas sejam respeitadas. Alguns números podem estar fixos no tabuleiro inicial."
      ]
    },
    {
      "cell_type": "code",
      "metadata": {
        "colab": {
          "base_uri": "https://localhost:8080/"
        },
        "id": "Pn2kOX1A0o-g",
        "outputId": "4e8e770c-4fe0-46f3-945f-632e249b2876"
      },
      "source": [
        "!pip install z3-solver"
      ],
      "execution_count": null,
      "outputs": [
        {
          "output_type": "stream",
          "name": "stdout",
          "text": [
            "Collecting z3-solver\n",
            "  Downloading z3_solver-4.8.12.0-py2.py3-none-manylinux1_x86_64.whl (33.0 MB)\n",
            "\u001b[K     |████████████████████████████████| 33.0 MB 18 kB/s \n",
            "\u001b[?25hInstalling collected packages: z3-solver\n",
            "Successfully installed z3-solver-4.8.12.0\n"
          ]
        }
      ]
    },
    {
      "cell_type": "code",
      "metadata": {
        "id": "JXjDMrML0rAB"
      },
      "source": [
        "from z3 import *\n",
        "import re"
      ],
      "execution_count": null,
      "outputs": []
    },
    {
      "cell_type": "markdown",
      "metadata": {
        "id": "RS2PLjFp2mzR"
      },
      "source": [
        "##Input \n",
        "\n",
        "Um exemplo de input para um puzzle como  \n",
        "![puzzle1.PNG](data:image/png;base64,iVBORw0KGgoAAAANSUhEUgAAAJ0AAACaCAYAAACzI0puAAAAAXNSR0IArs4c6QAAAARnQU1BAACxjwv8YQUAAAAJcEhZcwAAFiUAABYlAUlSJPAAAAUnSURBVHhe7d1dbhtHEIVRLk1rCOD9CIG3onXozV5IHryMiTvQxERSXVPXXV3NFr8DFPzDQfGiccUhLQG+HUAxSodylA7lKB3KUTqUo3QoR+lQjtKhHKVDOUqHclLpXl9fp80Ia1/WjLD2Zc0Ia1/WRMilm2F0L7k0q3NROge5NNG9lM5BLk1078TS/TjevtyOr98//ujY/RB7yGWbVrpvf96O243SzbB7rgml+3Z8/Vm2VjhKRy5Lcuk+Cvfl7fjx19vxB6X7+F2u3XPNe09H6cjVQekc5NJE91I6B7k00b2UzkEuTXQvpXOQSxPdS+kc5NJE91I6B7k00b2UzkEuTXTvvNIJdj/EHnLZKJ2DXJroXkrnIJcmupfSOcilie6ldA5yaaJ7KZ2DXJroXrl0s2aEtS9rRlj7smaEtS9rIqTSARkoHcpROpSjdCj3KUunvKk9vb+/Hy8vLx9/wmnGuXzaV7pWunZY7dCuKNc+k/Ncss/nU99ez6/S3qve1ePPyjqXzLN6ivd01leq9Xe4PpeMc3uaDxL3X6nnr/jl/nyuKNdanqZ0p9Gv0s/qd86lle53ivd0pcN6lA7lKB3KUTqUo3QoJ5Xu/LQyY0ZY+7JmhLUva0ZY+7ImQi7dDKN7yaVZnYvSOcilie6ldA5yaaJ7KZ2DXJroXkrnIJcmupfSOcilie6ldA5yaaJ7KZ2DXJroXkrnIJcmupfSOcilie6ldA5yaaJ7KZ2DXJroXkrnIJcmupfSOcilie6ldA5yaaJ7KZ2DXJroXkrnIJcmupfSOcilie6ldA5yaaJ7KZ2DXJroXkrnIJcmulcu3awZYe3LmhHWvqwZYe3LmgipdEAGSodylA7lKB3KUTqUo3QoR+lQjtKhHKVDOUqHcpQO5SgdylE6lKN0KEfpUE4qnfXzU1kzwtqXNSOsfVkzwtqXNRFy6WYY3UsuzepclM5BLk10L6VzkEsT3UvpHLvliv6fravPi9I5dst1/o/TV1afF6Vz7JirPXb1vCty3aN0jl1zXd1mV58XpXPsmuvqNrv6vCidY+dc7ZredStzNZTOsXuu3m12dS5K59g9V7vOus2uzkXpHDvn8t7XrT4vSufYOZf3CXb1eVE6x6652uPeNatynSidY8dcV/9c0qw+L0rn2DGXd1s9rT4vSufYLVf7+8hzVuf6L0rn2C1X9PlWnxelc5BLE91L6Rzk0kT3UjoHuTTRvXLpZs0Ia1/WjLD2Zc0Ia1/WREilAzJQOpSjdChH6VCO0kH6EHCKfI+3h9LhH610ke/bNsq1FkqHf52vXr1XvavHoygd/sd6JRt9dbtH6WC6f1XLeHW7R+ngynp1u0fpUI7SoRylQzlKh3KUDuWk0rWPzbNmhLUva0ZY+7JmhLUvayLk0s0wupdcmtW5KJ2DXJro3u1KZ137CLks5LJtVbp2nXXt6lw95LJtU7rze4GW1YfYQy7bNqXzvge4+hB7yGXbonTtce+aVbmukMv28KXzbqun1YfYQy7bw5cu8qM1qw+xh1y2hy5dK1zkOVcfYg+5bA9dusittVl9iD3ksj387bU9dvW8K3JFkMv28KVrrt7XrT7EHnLZtijd1W129SH2kMu2Remadk3vupW5POSybVO6pnebXZ2rh1y2rUrXu82uztVDLttWpeshl2Z1LkrnIJcmupfSOcilie6ldA5yaaJ75dLNmhHWvqwZYe3LmhHWvqyJkEoHZKB0KEfpUI7SoRylQzlKh3KUDsWO428f7B9T3Ff1lgAAAABJRU5ErkJggg==)  \n",
        "\n",
        "\n",
        "é: \n",
        "<p> n=4 [1-_-_-_] [.->-.-<] [_-_-_-_] [_-_-_>_] [.-.-.->]  [_<_-_-_] </p> \n"
      ]
    },
    {
      "cell_type": "markdown",
      "metadata": {
        "id": "qKvduj6CuA3R"
      },
      "source": [
        "As regras são:\n",
        "\n",
        "1.   Indicar o tamanho do puzzle através da expressão \"**n=\\<tamanho\\>**\" ou \"**N=\\<tamanho**\\>\"\n",
        "2.   Indicar uma linha do puzzle entre parêntesis retos\n",
        "3.   Separar as casinhas do puzzle com o carater \"**-**\", \"**<**\" ou \"**>**\". Os últimos dois símbolo só devem ser usados caso exista uma restrição de menor ou maior, respetivamente, entre casinhas na mesma linha. Usa-se \"**-**\"\" quando não existe nenhuma restrição de desigualdade.\n",
        "4.   Eventualmente, entre as linhas do puzzle, podem surgir desigualdades. Para declarar essas desigualdades abrir parêntesis retos e colocar um \"**.**\" caso não exista desigualdade entre a casinha da linha imediatamente acima e a da linha imediatamente abaixo. Colocar \"**-**\" para separar casinhas. Colocar \"**>**\" caso a casinha da linha acima seja maior que a casinha da linha abaixo e \"**<**\" caso a casinha da linha acima seja menor que a casinha da linha abaixo.\n",
        "\n"
      ]
    },
    {
      "cell_type": "markdown",
      "metadata": {
        "id": "UUanv_VhsHAd"
      },
      "source": [
        "###Alguns puzzles já prontos para input\n",
        "\n",
        "####Puzzle 1\n",
        "<p> n=4 [_>_-_<_] [.->-.-.] [_-_-_-_] [.->-.-.] [_-_-_>_] [_-_-_-_] </p>\n",
        "\n",
        "![puzzle1.PNG](data:image/png;base64,iVBORw0KGgoAAAANSUhEUgAAAJ0AAACaCAYAAACzI0puAAAAAXNSR0IArs4c6QAAAARnQU1BAACxjwv8YQUAAAAJcEhZcwAAFiUAABYlAUlSJPAAAAUnSURBVHhe7d1dbhtHEIVRLk1rCOD9CIG3onXozV5IHryMiTvQxERSXVPXXV3NFr8DFPzDQfGiccUhLQG+HUAxSodylA7lKB3KUTqUo3QoR+lQjtKhHKVDOUqHclLpXl9fp80Ia1/WjLD2Zc0Ia1/WRMilm2F0L7k0q3NROge5NNG9lM5BLk1078TS/TjevtyOr98//ujY/RB7yGWbVrpvf96O243SzbB7rgml+3Z8/Vm2VjhKRy5Lcuk+Cvfl7fjx19vxB6X7+F2u3XPNe09H6cjVQekc5NJE91I6B7k00b2UzkEuTXQvpXOQSxPdS+kc5NJE91I6B7k00b2UzkEuTXTvvNIJdj/EHnLZKJ2DXJroXkrnIJcmupfSOcilie6ldA5yaaJ7KZ2DXJroXrl0s2aEtS9rRlj7smaEtS9rIqTSARkoHcpROpSjdCj3KUunvKk9vb+/Hy8vLx9/wmnGuXzaV7pWunZY7dCuKNc+k/Ncss/nU99ez6/S3qve1ePPyjqXzLN6ivd01leq9Xe4PpeMc3uaDxL3X6nnr/jl/nyuKNdanqZ0p9Gv0s/qd86lle53ivd0pcN6lA7lKB3KUTqUo3QoJ5Xu/LQyY0ZY+7JmhLUva0ZY+7ImQi7dDKN7yaVZnYvSOcilie6ldA5yaaJ7KZ2DXJroXkrnIJcmupfSOcilie6ldA5yaaJ7KZ2DXJroXkrnIJcmupfSOcilie6ldA5yaaJ7KZ2DXJroXkrnIJcmupfSOcilie6ldA5yaaJ7KZ2DXJroXkrnIJcmupfSOcilie6ldA5yaaJ7KZ2DXJroXkrnIJcmulcu3awZYe3LmhHWvqwZYe3LmgipdEAGSodylA7lKB3KUTqUo3QoR+lQjtKhHKVDOUqHcpQO5SgdylE6lKN0KEfpUE4qnfXzU1kzwtqXNSOsfVkzwtqXNRFy6WYY3UsuzepclM5BLk10L6VzkEsT3UvpHLvliv6fravPi9I5dst1/o/TV1afF6Vz7JirPXb1vCty3aN0jl1zXd1mV58XpXPsmuvqNrv6vCidY+dc7ZredStzNZTOsXuu3m12dS5K59g9V7vOus2uzkXpHDvn8t7XrT4vSufYOZf3CXb1eVE6x6652uPeNatynSidY8dcV/9c0qw+L0rn2DGXd1s9rT4vSufYLVf7+8hzVuf6L0rn2C1X9PlWnxelc5BLE91L6Rzk0kT3UjoHuTTRvXLpZs0Ia1/WjLD2Zc0Ia1/WREilAzJQOpSjdChH6VCO0kH6EHCKfI+3h9LhH610ke/bNsq1FkqHf52vXr1XvavHoygd/sd6JRt9dbtH6WC6f1XLeHW7R+ngynp1u0fpUI7SoRylQzlKh3KUDuWk0rWPzbNmhLUva0ZY+7JmhLUvayLk0s0wupdcmtW5KJ2DXJro3u1KZ137CLks5LJtVbp2nXXt6lw95LJtU7rze4GW1YfYQy7bNqXzvge4+hB7yGXbonTtce+aVbmukMv28KXzbqun1YfYQy7bw5cu8qM1qw+xh1y2hy5dK1zkOVcfYg+5bA9dusittVl9iD3ksj387bU9dvW8K3JFkMv28KVrrt7XrT7EHnLZtijd1W129SH2kMu2Remadk3vupW5POSybVO6pnebXZ2rh1y2rUrXu82uztVDLttWpeshl2Z1LkrnIJcmupfSOcilie6ldA5yaaJ75dLNmhHWvqwZYe3LmhHWvqyJkEoHZKB0KEfpUI7SoRylQzlKh3KUDsWO428f7B9T3Ff1lgAAAABJRU5ErkJggg==)\n",
        "\n"
      ]
    },
    {
      "cell_type": "markdown",
      "metadata": {
        "id": "5Qj229h7sb2m"
      },
      "source": [
        "O código a seguir apresentado faz o *parsing* do input fornecido.  \n",
        "É criado um dicionário ***puzzle*** que contém, para cada posição, um carater que corresponde a um número, caso o puzzle fornecido como input tenha já um valor para essa posição, ou '_', caso não tenha um valor definido.  \n",
        "São criados dos arrays (***menor*** e ***maior***), que guardam as posições do puzzle entre as quais existe uma desigualdade. "
      ]
    },
    {
      "cell_type": "code",
      "metadata": {
        "id": "mxPT7Y3H2wX0",
        "colab": {
          "base_uri": "https://localhost:8080/"
        },
        "outputId": "1e96dd71-5047-4363-c250-d2eb78ed1232"
      },
      "source": [
        "puzzle = {}\n",
        "menor = {}\n",
        "maior = {}\n",
        "\n",
        "puzzle_string = input(\"Introduza o seu puzzle: \")\n",
        "\n",
        "m = re.match(r\"[nN] *= *(\\d)\", puzzle_string) #Obtenção do tamanho do puzzle\n",
        "\n",
        "if (m):\n",
        "  N = int(m.group(1))\n",
        "\n",
        "  m = re.findall(r\"\\[([^\\]]*)\\]\", puzzle_string) #significado da re: qualquer caracter entre parêntesis retos exceto ']'\n",
        "  \n",
        "  correct = 1\n",
        "  for line in m: #verifica se o input dentro dos parêntesis retos está correto. Não verifica se, caso exista um valor, ele está entre 1 e N e se o número de linhas do puzzle está correto. \n",
        "    if (re.match(r\"([\\d_][-<>]){\" + str(N-1) + r\"}[\\d_]|([.<>]-){\" + str(N-1) + r\"}[.<>]\", line) == None):\n",
        "      correct=0\n",
        "      break\n",
        "  \n",
        "  if(correct):\n",
        "\n",
        "    l = 0\n",
        "    for i in range(len(m)):\n",
        "      counter = 0\n",
        "      chr = 0\n",
        "      for c in m[i]: #percorre todos os caracteres \n",
        "        if (c=='<'):\n",
        "          if (re.match(r\"[\\d_]\",m[i-1][chr])): #quando é '<' entre linhas\n",
        "            menor[str(l-1)+str(counter)] = str(l)+str(counter)\n",
        "            counter+=1\n",
        "\n",
        "          else: #quando é '<' entre elems na mesma linha\n",
        "            menor[str(l)+str(counter-1)] = str(l)+str(counter)\n",
        "\n",
        "        elif (c=='>'):\n",
        "            if (re.match(r\"[\\d_]\",m[i-1][chr])): #quando é '>' entre linhas\n",
        "              maior[str(l-1)+str(counter)] = str(l)+str(counter)\n",
        "              counter+=1\n",
        "\n",
        "            else: #quando é '>' entre elems na mesma linha\n",
        "              maior[str(l)+str(counter-1)] = str(l)+str(counter)\n",
        "\n",
        "        elif (re.match(r\"[\\d_]\",c)): #se for um número ou o caracter '_'\n",
        "          if (counter==0):\n",
        "            puzzle[l] = {}\n",
        "\n",
        "          puzzle[l][counter] = c\n",
        "          counter+=1\n",
        "\n",
        "\n",
        "          if (counter==N):\n",
        "            l+=1\n",
        "          \n",
        "        elif (re.match(r\"\\.\",c)): #se for um '.'\n",
        "          counter+=1\n",
        "          \n",
        "        chr+=1 #conta os chars \n",
        "      \n",
        "    print(puzzle)\n",
        "    print(menor)\n",
        "    print(maior)\n",
        "\n",
        "  else:\n",
        "    print(\"Tente novamente, input incorreto.\")\n",
        "else: \n",
        "  print(\"Tente novamente, input incorreto.\")"
      ],
      "execution_count": null,
      "outputs": [
        {
          "output_type": "stream",
          "name": "stdout",
          "text": [
            "Introduza o seu puzzle: n=6 [_-_-_-_-_-_] [>-.-.-<-.-.] [_-_-_-_-_-_] [_-_>5-_-_-_] [<-.-.-<-.-.] [_<_-_-2-_-_] [.-.-<-.-.-.] [_-_-2-_-_-_] [.-.-.->-<-.] [2-_-_>_>_<_]\n",
            "{0: {0: '_', 1: '_', 2: '_', 3: '_', 4: '_', 5: '_'}, 1: {0: '_', 1: '_', 2: '_', 3: '_', 4: '_', 5: '_'}, 2: {0: '_', 1: '_', 2: '5', 3: '_', 4: '_', 5: '_'}, 3: {0: '_', 1: '_', 2: '_', 3: '2', 4: '_', 5: '_'}, 4: {0: '_', 1: '_', 2: '2', 3: '_', 4: '_', 5: '_'}, 5: {0: '2', 1: '_', 2: '_', 3: '_', 4: '_', 5: '_'}}\n",
            "{'03': '13', '20': '30', '23': '33', '30': '31', '32': '42', '44': '54', '54': '55'}\n",
            "{'00': '10', '21': '22', '43': '53', '52': '53', '53': '54'}\n"
          ]
        }
      ]
    },
    {
      "cell_type": "markdown",
      "metadata": {
        "id": "f-9MncI84LNz"
      },
      "source": [
        "Na porção de código a seguir, para além da declaração das variáveis, estão as restrições relativas a:\n",
        "\n",
        "* Elementos da mesma linha devem ser diferentes\n",
        "* Elementos da mesma coluna devem ser diferentes\n",
        "* Cada casa deve conter um número entre 1 e N\n",
        "* Valores já presentes no puzzle inicial fornecido devem ser impostos às respetivas variáveis\n"
      ]
    },
    {
      "cell_type": "code",
      "metadata": {
        "id": "Ku8YlaIE2f8Q"
      },
      "source": [
        "s = Solver()\n",
        "puzzle_lines={}\n",
        "puzzle_columns={}\n",
        "\n",
        "for i in range(N):\n",
        "  puzzle_columns[i] = {}\n",
        "  puzzle_lines[i] = {}\n",
        "\n",
        "for i in range(N):\n",
        "  for j in range(N):\n",
        "    puzzle_lines[i][j] = Int('x'+str(i)+str(j))       # declaração de variáveis\n",
        "\n",
        "    if (puzzle[i][j] != '_'):\n",
        "      s.add(puzzle_lines[i][j] == int(puzzle[i][j]))   #se o puzzle fornecido no input tem um valor para essa variável, é-lhe atribuído\n",
        "    else:\n",
        "     s.add(And(1<= puzzle_lines[i][j], puzzle_lines[i][j]<=N))  #se a variável não tem valor dado pelo puzzle inicial, então acrescentar restrições de valor \n",
        "  \n",
        "  s.add(Distinct (*puzzle_lines[i].values()))  #elementos da mesma linha devem ser diferentes\n",
        "\n",
        "\n",
        "for i in range(N):\n",
        "   for j in range(N):\n",
        "     puzzle_columns[j][i] = puzzle_lines[i][j]\n",
        "\n",
        "for i in range(N):\n",
        "  s.add(Distinct (*puzzle_columns[i].values()))  #elementos da mesma coluna devem ser diferentes\n",
        "\n",
        "\n"
      ],
      "execution_count": null,
      "outputs": []
    },
    {
      "cell_type": "markdown",
      "metadata": {
        "id": "a0QlQZTh59t3"
      },
      "source": [
        "A porção de código a seguir diz respeito às restrições de menor e maior entre elementos do puzzle."
      ]
    },
    {
      "cell_type": "code",
      "metadata": {
        "id": "jlLKmr3qAmMS"
      },
      "source": [
        "menor_list = list(menor.items())\n",
        "maior_list = list(maior.items())\n",
        "\n",
        "for restriction in menor_list:\n",
        "  i1 = int(restriction[0][0])\n",
        "  j1 = int(restriction[0][1])\n",
        "  i2 = int(restriction[1][0])\n",
        "  j2 = int(restriction[1][1])\n",
        "  s.add(puzzle_lines[i1][j1] < puzzle_lines[i2][j2])\n",
        "\n",
        "for restriction in maior_list:\n",
        "  i1 = int(restriction[0][0])\n",
        "  j1 = int(restriction[0][1])\n",
        "  i2 = int(restriction[1][0])\n",
        "  j2 = int(restriction[1][1])\n",
        "  s.add(puzzle_lines[i1][j1] > puzzle_lines[i2][j2])\n",
        "\n"
      ],
      "execution_count": null,
      "outputs": []
    },
    {
      "cell_type": "markdown",
      "metadata": {
        "id": "P4HKr22ybmN8"
      },
      "source": [
        "Código correspondente à impressão da solução do puzzle no ecrã."
      ]
    },
    {
      "cell_type": "code",
      "metadata": {
        "colab": {
          "base_uri": "https://localhost:8080/"
        },
        "id": "8Q0xRL3dvxen",
        "outputId": "6dcfb85e-6917-4d3c-c5ac-8c39953c5cce"
      },
      "source": [
        "print(s.check())\n",
        "if (s.check()==sat):\n",
        "\n",
        "  simb_entre_linhas = {}\n",
        "\n",
        "  m = s.model()\n",
        "  m_sorted = sorted([(x,m[x]) for x in m], key=lambda l:str(l[0])) #ordenação da solução com base nas posições do puzzle\n",
        "  \n",
        "  i=0  #conta os elementos já percorridos numa linha\n",
        "  line = 0   #conta as linhas já percorridas\n",
        "\n",
        "  for elem in m_sorted:\n",
        "    print(\" \" + str(elem[1]) + \" \" ,end=\"\") \n",
        "    pos=\"\"\n",
        "    y = re.match(r\"x(\\d\\d)\",str(elem[0])) #obtém posição do elemento\n",
        "    if (y):\n",
        "      pos = y.group(1)\n",
        "\n",
        "    if pos in menor:  #verifica se o elemento aparece no dicionário 'menor'\n",
        "      if (pos[0] == menor[pos][0]): #se o elemento  menor na mesma linha\n",
        "        print(\"<\",end=\"\")\n",
        "      else: \n",
        "        print(\" \",end=\"\")\n",
        "        if line in simb_entre_linhas:\n",
        "         simb_entre_linhas[line].append((\"<\",pos[1]))\n",
        "        else:\n",
        "           simb_entre_linhas[line] = [(\"<\",pos[1])]\n",
        "\n",
        "    elif pos in maior: #verifica se o elemento aparece no dicionário 'maior'\n",
        "      if (pos[0] == maior[pos][0]):\n",
        "        print(\">\",end=\"\")\n",
        "      else:\n",
        "        print(\" \",end=\"\")\n",
        "        if line in simb_entre_linhas:\n",
        "         simb_entre_linhas[line].append((\">\",pos[1]))\n",
        "        else:\n",
        "           simb_entre_linhas[line] = [(\">\",pos[1])]\n",
        "\n",
        "    else:\n",
        "      print(\" \",end=\"\")\n",
        "\n",
        "    i+=1\n",
        "    if (i == N): #se chegamos ao fim da linha\n",
        "      print(\"\")\n",
        "      str_line=\"\"\n",
        "\n",
        "      if line in simb_entre_linhas:\n",
        "        j=0\n",
        "      \n",
        "        for elem in simb_entre_linhas[line]:\n",
        "\n",
        "          while (j!=int(elem[1])):\n",
        "            str_line+=\"    \"\n",
        "            j+=1\n",
        "\n",
        "          j+=1\n",
        "          str_line+= \" \" + elem[0] + \"  \"       \n",
        "        \n",
        "      print(str_line)\n",
        "      line+=1\n",
        "      i=0\n",
        "\n"
      ],
      "execution_count": null,
      "outputs": [
        {
          "output_type": "stream",
          "name": "stdout",
          "text": [
            "sat\n",
            " 6   2   4   3   5   1  \n",
            " >           <  \n",
            " 1   4   3   5   2   6  \n",
            "\n",
            " 3   6 > 5   1   4   2  \n",
            " <           <  \n",
            " 4 < 5   1   2   6   3  \n",
            "         <  \n",
            " 5   3   2   6   1   4  \n",
            "             >   <  \n",
            " 2   1   6 > 4 > 3 < 5  \n",
            "\n"
          ]
        }
      ]
    }
  ]
}