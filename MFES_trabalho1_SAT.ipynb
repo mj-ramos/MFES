{
  "nbformat": 4,
  "nbformat_minor": 0,
  "metadata": {
    "colab": {
      "provenance": [],
      "collapsed_sections": []
    },
    "kernelspec": {
      "name": "python3",
      "display_name": "Python 3"
    },
    "language_info": {
      "name": "python"
    }
  },
  "cells": [
    {
      "cell_type": "markdown",
      "metadata": {
        "id": "DE07Np-Dc-_h"
      },
      "source": [
        "#**Trabalho de casa 1** - SAT Solving\n",
        "  \n",
        "#### Número: **pg47483**\n",
        "#### Nome: **Maria José Costa Ramos**\n",
        "#### Curso:  **Mestrado em Engenharia Informática**\n",
        "#### Disciplina: **Metodos Formais em Engenharia de Software**\n"
      ]
    },
    {
      "cell_type": "code",
      "metadata": {
        "colab": {
          "base_uri": "https://localhost:8080/"
        },
        "id": "5HMPpF0ncc0M",
        "outputId": "e4ecf365-9aed-4626-a63e-21b71de371d6"
      },
      "source": [
        "#Instalação da biblioteca PySAT\n",
        "\n",
        "!pip install python-sat[pblib,aiger]"
      ],
      "execution_count": null,
      "outputs": [
        {
          "output_type": "stream",
          "name": "stdout",
          "text": [
            "Collecting python-sat[aiger,pblib]\n",
            "  Downloading python_sat-0.1.7.dev11-cp37-cp37m-manylinux2010_x86_64.whl (1.8 MB)\n",
            "\u001b[K     |████████████████████████████████| 1.8 MB 5.0 MB/s \n",
            "\u001b[?25hRequirement already satisfied: six in /usr/local/lib/python3.7/dist-packages (from python-sat[aiger,pblib]) (1.15.0)\n",
            "Collecting pypblib>=0.0.3\n",
            "  Downloading pypblib-0.0.4-cp37-cp37m-manylinux2014_x86_64.whl (3.4 MB)\n",
            "\u001b[K     |████████████████████████████████| 3.4 MB 57.4 MB/s \n",
            "\u001b[?25hCollecting py-aiger-cnf>=2.0.0\n",
            "  Downloading py_aiger_cnf-5.0.2-py3-none-any.whl (5.2 kB)\n",
            "Collecting bidict<0.22.0,>=0.21.0\n",
            "  Downloading bidict-0.21.4-py3-none-any.whl (36 kB)\n",
            "Collecting funcy<2.0,>=1.12\n",
            "  Downloading funcy-1.16-py2.py3-none-any.whl (32 kB)\n",
            "Collecting py-aiger<7.0.0,>=6.0.0\n",
            "  Downloading py_aiger-6.1.14-py3-none-any.whl (18 kB)\n",
            "Collecting attrs<21.0.0,>=20.0.0\n",
            "  Downloading attrs-20.3.0-py2.py3-none-any.whl (49 kB)\n",
            "\u001b[K     |████████████████████████████████| 49 kB 6.4 MB/s \n",
            "\u001b[?25hRequirement already satisfied: sortedcontainers<3.0.0,>=2.3.0 in /usr/local/lib/python3.7/dist-packages (from py-aiger<7.0.0,>=6.0.0->py-aiger-cnf>=2.0.0->python-sat[aiger,pblib]) (2.4.0)\n",
            "Collecting toposort<2.0,>=1.5\n",
            "  Downloading toposort-1.7-py2.py3-none-any.whl (9.0 kB)\n",
            "Collecting pyrsistent<0.18.0,>=0.17.0\n",
            "  Downloading pyrsistent-0.17.3.tar.gz (106 kB)\n",
            "\u001b[K     |████████████████████████████████| 106 kB 70.3 MB/s \n",
            "\u001b[?25hCollecting parsimonious<0.9.0,>=0.8.1\n",
            "  Downloading parsimonious-0.8.1.tar.gz (45 kB)\n",
            "\u001b[K     |████████████████████████████████| 45 kB 3.1 MB/s \n",
            "\u001b[?25hBuilding wheels for collected packages: parsimonious, pyrsistent\n",
            "  Building wheel for parsimonious (setup.py) ... \u001b[?25l\u001b[?25hdone\n",
            "  Created wheel for parsimonious: filename=parsimonious-0.8.1-py3-none-any.whl size=42724 sha256=9659005c57e062fd4f35d6cf873bad1135234c3f677b94fc858fed2cdecfc0d9\n",
            "  Stored in directory: /root/.cache/pip/wheels/88/5d/ba/f27d8af07306b65ee44f9d3f9cadea1db749a421a6db8a99bf\n",
            "  Building wheel for pyrsistent (setup.py) ... \u001b[?25l\u001b[?25hdone\n",
            "  Created wheel for pyrsistent: filename=pyrsistent-0.17.3-cp37-cp37m-linux_x86_64.whl size=98097 sha256=b62d6f14d0ba693f7b65b09fbe031b7098b65be5c570e3b2bf8c6c88e1398160\n",
            "  Stored in directory: /root/.cache/pip/wheels/a5/52/bf/71258a1d7b3c8cbe1ee53f9314c6f65f20385481eaee573cc5\n",
            "Successfully built parsimonious pyrsistent\n",
            "Installing collected packages: toposort, pyrsistent, parsimonious, funcy, bidict, attrs, py-aiger, python-sat, pypblib, py-aiger-cnf\n",
            "  Attempting uninstall: pyrsistent\n",
            "    Found existing installation: pyrsistent 0.18.0\n",
            "    Uninstalling pyrsistent-0.18.0:\n",
            "      Successfully uninstalled pyrsistent-0.18.0\n",
            "  Attempting uninstall: attrs\n",
            "    Found existing installation: attrs 21.2.0\n",
            "    Uninstalling attrs-21.2.0:\n",
            "      Successfully uninstalled attrs-21.2.0\n",
            "\u001b[31mERROR: pip's dependency resolver does not currently take into account all the packages that are installed. This behaviour is the source of the following dependency conflicts.\n",
            "datascience 0.10.6 requires folium==0.2.1, but you have folium 0.8.3 which is incompatible.\u001b[0m\n",
            "Successfully installed attrs-20.3.0 bidict-0.21.4 funcy-1.16 parsimonious-0.8.1 py-aiger-6.1.14 py-aiger-cnf-5.0.2 pypblib-0.0.4 pyrsistent-0.17.3 python-sat-0.1.7.dev11 toposort-1.7\n"
          ]
        }
      ]
    },
    {
      "cell_type": "markdown",
      "metadata": {
        "id": "fZTger1TdtZO"
      },
      "source": [
        "# Problema\n",
        "\n",
        "O “Clube Desportivo de Ribeirão” tem as seguintes regras:  \n",
        "* Todos os sócios que usam bigode são casados.  \n",
        "* Cada sócio do clube que não é de Ribeirão tem que usar camisola amarela.  \n",
        "* Os sócios casados não podem assistir aos jogos ao Domingo.\n",
        "* Um sócio vai aos jogos ao Domingo se e só se é de Ribeirão.\n",
        "* Cada sócio usa bigode ou não usa camisola amarela.\n",
        "* Todos os sócios de Ribeirão usam bigode.\n"
      ]
    },
    {
      "cell_type": "markdown",
      "metadata": {
        "id": "yrl9KJjHeQKx"
      },
      "source": [
        "### 1. Por forma a codificar este puzzle como problema SAT, defina um conjunto adequado de variáveis proposicionais, exprima as regras acima como fórmulas proposicionais, e converta essas fórmulas para CNF.\n",
        "\n",
        "### Variáveis\n",
        "**B** - Tem bigode.  \n",
        "**C** - É casado.  \n",
        "**R** - É de Ribeirão.  \n",
        "**A** - Usa camisola amarela.  \n",
        "**D** - Assiste jogos aos domingos. \n",
        "\n",
        "### Cláusulas\n",
        "* Todos os sócios que usam bigode são casados. **B → C**\n",
        "* Cada sócio do clube que não é de Ribeirão tem que usar camisola amarela. **¬R → A**\n",
        "* Os sócios casados não podem assistir aos jogos ao Domingo. **C → ¬D**\n",
        "* Um sócio vai aos jogos ao Domingo se e só se é de Ribeirão. **D ⇔ R**\n",
        "* Cada sócio usa bigode ou não usa camisola amarela. **B ∨ ¬A**\n",
        "* Todos os sócios de Ribeirão usam bigode. **R → B**\n",
        "\n",
        "\n",
        "### Cláusulas em CNF\n",
        "* **¬B ∨ C**\n",
        "* **R ∨ A**\n",
        "* **¬C ∨ ¬D** \n",
        "* (D ∧ R) ∨ (¬D ∧ ¬R) ⇔ (D ∨ (¬D ∧ ¬R)) ∧ (R ∨ (¬D ∧ ¬R)) ⇔ (D ∨ ¬D) ∧ (D ∨ ¬R) ∧ (R ∨ ¬D) ∧ (R ∨ ¬R),   \n",
        "que, simplificando, é equivalente a  **(D ∨ ¬R) ∧ (R ∨ ¬D)**\n",
        "* **B ∨ ¬A**\n",
        "* **¬R ∨ B**"
      ]
    },
    {
      "cell_type": "markdown",
      "metadata": {
        "id": "vSnbTkecu6Ej"
      },
      "source": [
        "### 2. Codifique o problema num SAT solver e comprove que o conjunto de regras é consistente.\n"
      ]
    },
    {
      "cell_type": "code",
      "metadata": {
        "id": "IS5NdNxWfRNY"
      },
      "source": [
        "from pysat.solvers import Minisat22\n",
        "\n",
        "bigode = 'tem bigode'\n",
        "casado = 'é casado'\n",
        "ribeirao = 'é de Ribeirão'\n",
        "amarela = 'usa camisola amarela'\n",
        "domingo = 'assiste jogos aos domingos'\n",
        "\n",
        "clube = [bigode,casado,ribeirao,amarela,domingo]\n",
        "\n",
        "variaveis = {}\n",
        "i = 1\n",
        "\n",
        "for c in clube:\n",
        "  variaveis[c] = i\n",
        "  i += 1\n",
        "\n",
        "def regras_principais(s):\n",
        "\n",
        "  s.add_clause([-variaveis[bigode],variaveis[casado]])\n",
        "  s.add_clause([variaveis[ribeirao],variaveis[amarela]])\n",
        "  s.add_clause([-variaveis[casado],-variaveis[domingo]])\n",
        "  s.add_clause([variaveis[ribeirao],-variaveis[domingo]])\n",
        "  s.add_clause([variaveis[domingo],-variaveis[ribeirao]])\n",
        "  s.add_clause([variaveis[bigode],-variaveis[amarela]])\n",
        "  s.add_clause([-variaveis[ribeirao],variaveis[bigode]])"
      ],
      "execution_count": null,
      "outputs": []
    },
    {
      "cell_type": "code",
      "metadata": {
        "colab": {
          "base_uri": "https://localhost:8080/"
        },
        "id": "Kjm0dLgackON",
        "outputId": "330cb510-5a8b-4136-f9c7-d2ad4edabaf2"
      },
      "source": [
        "s = Minisat22()\n",
        "regras_principais(s)\n",
        "\n",
        "if s.solve():\n",
        "  m = s.get_model()\n",
        "  print(m)\n",
        "  print(\"\\nSAT => O conjunto é consistente! \\n\")\n",
        "\n",
        "  print(\"Um sócio que: \")\n",
        "  for c in clube:\n",
        "    if (m[variaveis[c] - 1] > 0):\n",
        "      \n",
        "      print(\" -> \" + c)\n",
        "    else:\n",
        "      print(\" -> não \" + c)\n",
        "  print(\"satisfaz o conjunto formado por todas as regras!\")\n",
        "else:\n",
        "  print(\"UNSAT => O conjunto é inconsistente.\")\n",
        "\n",
        "s.delete()"
      ],
      "execution_count": null,
      "outputs": [
        {
          "output_type": "stream",
          "name": "stdout",
          "text": [
            "[1, 2, -3, 4, -5]\n",
            "\n",
            "SAT => O conjunto é consistente! \n",
            "\n",
            "Um sócio que: \n",
            " -> tem bigode\n",
            " -> é casado\n",
            " -> não é de Ribeirão\n",
            " -> usa camisola amarela\n",
            " -> não assiste jogos aos domingos\n",
            "satisfaz o conjunto formado por todas as regras!\n"
          ]
        }
      ]
    },
    {
      "cell_type": "markdown",
      "metadata": {
        "id": "5j-wETv27ojP"
      },
      "source": [
        "Executando o código acima, verificamos que o conjunto de regras é consistente, visto que existe pelo menos uma atribuição que satisfaz a conjunção de todas as regras, o que implica que satisfaz cada uma das regras individualmente."
      ]
    },
    {
      "cell_type": "markdown",
      "metadata": {
        "id": "qJO2xOu-779k"
      },
      "source": [
        "###3. Use agora o SAT solver para o ajudar a responder às seguintes questões:\n",
        "\n",
        "Para sabermos a resposta a cada uma das seguintes questões é necessário adicionar novas cláusulas ao programa capazes de exprimir as afirmações.   \n",
        "De salientar que entre cada questão é necessário apagar as cláusulas adicionadas das questões anteriores. "
      ]
    },
    {
      "cell_type": "markdown",
      "metadata": {
        "id": "XgjggyzF8ThU"
      },
      "source": [
        "## **(a) A afirmação “Quem usa bigode não pode ir ao jogo ao Domingo.” é correcta?**\n"
      ]
    },
    {
      "cell_type": "markdown",
      "metadata": {
        "id": "JY0jzUk8i8ta"
      },
      "source": [
        "\n",
        "A afirmação acima pode ser expressa pela seguinte cláusula: **B → ¬D**.   \n",
        "Em CNF temos:  **¬B ∨ ¬D**.   \n",
        "Negação: **B ∧ D**.  \n",
        "  \n",
        "Se o conjunto de regras acrescido da negação da cláusula que representa a afirmação for insatisfazível, significa que não existe nenhuma solução em que quem usa bigode possa ir ao jogo ao domingo, ou seja, que, para todas as soluções, a afirmação verifica-se.  \n"
      ]
    },
    {
      "cell_type": "code",
      "metadata": {
        "id": "5fV0vnRU8bg-",
        "colab": {
          "base_uri": "https://localhost:8080/"
        },
        "outputId": "d464ee28-c2f1-433f-8aa1-af1ec0d77820"
      },
      "source": [
        "s = Minisat22()\n",
        "regras_principais(s)\n",
        "\n",
        "s.add_clause([variaveis[bigode]])\n",
        "s.add_clause([variaveis[domingo]])\n",
        "\n",
        "if s.solve():\n",
        "  m = s.get_model()\n",
        "  print(m)\n",
        "  print(\"\\nSAT => A afirmação é incorreta. Existe pelo menos uma solução em que quem usa bigode pode ir ao jogo no domingo.\")\n",
        "\n",
        "  print(\"Uma solução para este conjunto de regras é um sócio que: \")\n",
        "  for c in clube:\n",
        "    if (m[variaveis[c] - 1] > 0):    \n",
        "      print(\" -> \" + c)\n",
        "    else:\n",
        "      print(\" -> não \" + c)\n",
        "\n",
        "else:\n",
        "  print(\"UNSAT => A afirmação é correta, quem usa bigode não pode ir ao jogo ao domingo.\")\n",
        "\n",
        "s.delete()"
      ],
      "execution_count": null,
      "outputs": [
        {
          "output_type": "stream",
          "name": "stdout",
          "text": [
            "UNSAT => A afirmação é correta, quem usa bigode não pode ir ao jogo ao domingo.\n"
          ]
        }
      ]
    },
    {
      "cell_type": "markdown",
      "metadata": {
        "id": "tfhbPLb8DNuF"
      },
      "source": [
        "##**(b) Pode um membro de camisola amarela ser casado?**"
      ]
    },
    {
      "cell_type": "markdown",
      "metadata": {
        "id": "UG1G3WgJDVA_"
      },
      "source": [
        "A pergunta traduz-se na regra: **A ∧ C**.  \n",
        "Neste caso só é necessário saber se o conjunto de regras acrescido desta cláusula tem pelo menos uma solução, pois isso significará que existe a possibilidade de um membro usar camisola amarela e ser casado."
      ]
    },
    {
      "cell_type": "code",
      "metadata": {
        "colab": {
          "base_uri": "https://localhost:8080/"
        },
        "id": "TP20xGxVBxtA",
        "outputId": "6bc43f12-6cea-4df2-b30d-81950dd7f548"
      },
      "source": [
        "s = Minisat22()\n",
        "regras_principais(s)\n",
        "\n",
        "s.add_clause([variaveis[amarela]])\n",
        "s.add_clause([variaveis[casado]])\n",
        "\n",
        "if s.solve():\n",
        "  m = s.get_model()\n",
        "  print(m)\n",
        "  print(\"\\nSAT => A afirmação é correta, um membro de camisola amarela pode ser casado. \\n\")\n",
        "\n",
        "  print(\"Uma solução para este conjunto de regras é um sócio que: \")\n",
        "  for c in clube:\n",
        "    if (m[variaveis[c] - 1] > 0):    \n",
        "      print(\" -> \" + c)\n",
        "    else:\n",
        "      print(\" -> não \" + c)\n",
        "\n",
        "else:\n",
        "  print(\"UNSAT => A afirmação é incorreta. Não existe nenhuma solução em que um membro de camisola amarela é casado.\")\n",
        "\n",
        "s.delete()\n"
      ],
      "execution_count": null,
      "outputs": [
        {
          "output_type": "stream",
          "name": "stdout",
          "text": [
            "[1, 2, -3, 4, -5]\n",
            "\n",
            "SAT => A afirmação é correta, um membro de camisola amarela pode ser casado. \n",
            "\n",
            "Uma solução para este conjunto de regras é um sócio que: \n",
            " -> tem bigode\n",
            " -> é casado\n",
            " -> não é de Ribeirão\n",
            " -> usa camisola amarela\n",
            " -> não assiste jogos aos domingos\n"
          ]
        }
      ]
    },
    {
      "cell_type": "markdown",
      "metadata": {
        "id": "QEnqile4h5N_"
      },
      "source": [
        "##**(c) A afirmação “Afinal o clube não pode ter sócios Ribeironenses.” é correcta?**"
      ]
    },
    {
      "cell_type": "markdown",
      "metadata": {
        "id": "p07zEnBQi5Kv"
      },
      "source": [
        "A afirmação traduz-se na regra **¬R**.  \n",
        "Negação: **R**.  \n",
        "  \n",
        "Para responder à pergunta, adicionamos ao conjunto de regras a cláusula **R**. Se o problema for satisfazível, significa que existe pelo menos uma solução em que os sócios são ribeironenses, o que prova que a afirmação é incorreta. Caso o problema seja insatisfazível, significa que não existe nenhuma solução em que os sócios são ribeironeneses, ou seja, para todas as soluções do problema os sócios não são ribeironenses."
      ]
    },
    {
      "cell_type": "code",
      "metadata": {
        "colab": {
          "base_uri": "https://localhost:8080/"
        },
        "id": "KOWwllARisyE",
        "outputId": "21b1c063-e359-49f9-a277-34da82cc796f"
      },
      "source": [
        "s = Minisat22()\n",
        "regras_principais(s)\n",
        "\n",
        "s.add_clause([variaveis[ribeirao]])\n",
        "\n",
        "if s.solve():\n",
        "  m = s.get_model()\n",
        "  print(m)\n",
        "  print(\"\\nSAT => A afirmação é incorreta, um sócio pode ser ribeironense. \\n\")\n",
        "\n",
        "  print(\"Uma solução para este conjunto de regras é um sócio que: \")\n",
        "  for c in clube:\n",
        "    if (m[variaveis[c] - 1] > 0):    \n",
        "      print(\" -> \" + c)\n",
        "    else:\n",
        "      print(\" -> não \" + c)\n",
        "\n",
        "else:\n",
        "  print(\"UNSAT => A afirmação é correta, o clube não tem sócios ribeironenses.\")\n",
        "\n",
        "s.delete()"
      ],
      "execution_count": null,
      "outputs": [
        {
          "output_type": "stream",
          "name": "stdout",
          "text": [
            "UNSAT => A afirmação é correta, o clube não tem sócios ribeironenses.\n"
          ]
        }
      ]
    },
    {
      "cell_type": "markdown",
      "metadata": {
        "id": "KHkQoBWGkRUY"
      },
      "source": [
        "##**(d) Os sócios casados têm todos bigode?**"
      ]
    },
    {
      "cell_type": "markdown",
      "metadata": {
        "id": "lZKgVTVskhMM"
      },
      "source": [
        "A pergunta pode traduzir-se na regra: **C → B**.  \n",
        "Em CNF: **¬C ∨ B**.  \n",
        "Negação: **C ∧ ¬B**.  \n",
        "  \n",
        "Para responder à pergunta adicionamos ao conjunto de regras a negação da regra que exprime a pergunta. Caso esse conjunto de regras seja satisfazível, significa que existe pelo menos uma solução em que os sócios são casados e não têm bigode. Caso o resultado seja UNSAT, significa que não existe nenhuma solução em que não se verifique que os sócios casados têm bigode."
      ]
    },
    {
      "cell_type": "code",
      "metadata": {
        "colab": {
          "base_uri": "https://localhost:8080/"
        },
        "id": "V5sbq1-skxMq",
        "outputId": "137e6c81-4feb-4a80-8c47-aa28f3b63863"
      },
      "source": [
        "s = Minisat22()\n",
        "regras_principais(s)\n",
        "\n",
        "s.add_clause([variaveis[casado]])\n",
        "s.add_clause([-variaveis[bigode]])\n",
        "\n",
        "if s.solve():\n",
        "  m = s.get_model()\n",
        "  print(m)\n",
        "  print(\"\\nSAT => Podem existir sócios que não têm bigode.\\n\")\n",
        "\n",
        "  print(\"Uma solução para este conjunto de regras é um sócio que: \")\n",
        "  for c in clube:\n",
        "    if (m[variaveis[c] - 1] > 0):    \n",
        "      print(\" -> \" + c)\n",
        "    else:\n",
        "      print(\" -> não \" + c)\n",
        "\n",
        "else:\n",
        "  print(\"UNSAT => Sim, todos os sócios casados têm bigode.\")\n",
        "\n",
        "s.delete()"
      ],
      "execution_count": null,
      "outputs": [
        {
          "output_type": "stream",
          "name": "stdout",
          "text": [
            "UNSAT => Sim, todos os sócios casados têm bigode.\n"
          ]
        }
      ]
    },
    {
      "cell_type": "markdown",
      "metadata": {
        "id": "2Iv-atJfkSSD"
      },
      "source": [
        "##**(e) A afirmação “Ao domingo nunca há sócios a assistir aos jogos.” é correcta?**"
      ]
    },
    {
      "cell_type": "markdown",
      "metadata": {
        "id": "c7TIu3gpkyB9"
      },
      "source": [
        "A afirmação pode traduzir-se na regra: **¬D**.  \n",
        "Negação: **D**.  \n",
        "  \n",
        "Para responder à pergunta adicionamos ao conjunto de regras a negação da regra que exprime a afirmação. Caso esse conjunto regras seja satisfazível, significa que existe pelo menos uma solução em que ao domingo há sócios a assistir aos jogos. Caso a resolução do problema dê UNSAT, significa que não existe nenhuma solução em que a negação da afirmação se verifique, ou seja, que para todas as soluções ao domingo nunca há sócios a assistir aos jogos."
      ]
    },
    {
      "cell_type": "code",
      "metadata": {
        "colab": {
          "base_uri": "https://localhost:8080/"
        },
        "id": "2fouIGRlkQSA",
        "outputId": "435380bd-a880-4054-87d4-31db6c0e5729"
      },
      "source": [
        "s = Minisat22()\n",
        "regras_principais(s)\n",
        "\n",
        "s.add_clause([variaveis[domingo]])\n",
        "\n",
        "if s.solve():\n",
        "  m = s.get_model()\n",
        "  print(m)\n",
        "  print(\"\\nSAT => A afirmação é incorreta. Podem existir sócios a assistir jogos ao domingo. \\n\")\n",
        "\n",
        "  print(\"Uma solução para este conjunto de regras é um sócio que: \")\n",
        "  for c in clube:\n",
        "    if (m[variaveis[c] - 1] > 0):    \n",
        "      print(\" -> \" + c)\n",
        "    else:\n",
        "      print(\" -> não \" + c)\n",
        "      \n",
        "else:\n",
        "  print(\"UNSAT => A afirmação é correta, nunca há sócios a assistir aos jogos no domingo.\")\n",
        "\n",
        "s.delete()"
      ],
      "execution_count": null,
      "outputs": [
        {
          "output_type": "stream",
          "name": "stdout",
          "text": [
            "UNSAT => A afirmação é correta, nunca há sócios a assistir aos jogos no domingo.\n"
          ]
        }
      ]
    },
    {
      "cell_type": "markdown",
      "metadata": {
        "id": "lIBafNV6Fe9W"
      },
      "source": [
        "###A resposta à maioria das questões anteriores obteve-se traduzindo as perguntas/afirmações em cláusulas, negando-as e adicionando-as ao conjunto de regras. Ao negarmos a cláusula e resolvendo o problema, obtemos SAT caso exista uma solução em que a afirmação é falsa e obtemos UNSAT caso não exista nenhuma solução em que a negação da afirmação seja verdade, ou seja, a  afirmação é verdadeira para qualquer solução do problema, que é o mesmo que dizer que **a afirmação é válida**."
      ]
    },
    {
      "cell_type": "markdown",
      "metadata": {
        "id": "pWSMtpBIWsDH"
      },
      "source": [
        "Podemos verificar as respostas às perguntas calculando todas as soluções possíveis do problema:"
      ]
    },
    {
      "cell_type": "code",
      "metadata": {
        "colab": {
          "base_uri": "https://localhost:8080/"
        },
        "id": "61p5s2SOWyEF",
        "outputId": "0bdfdcc1-2346-44e1-a029-638a5b56d68b"
      },
      "source": [
        "i = 1\n",
        "new_clause = [0,0,0,0,0]\n",
        "s = Minisat22()\n",
        "regras_principais(s)\n",
        "\n",
        "while s.solve():\n",
        "  j = 0\n",
        "  m = s.get_model()\n",
        "  print(\"\\nSolução \" + str(i))\n",
        "  print(m)\n",
        "\n",
        "  for c in clube:\n",
        "    if (m[variaveis[c] - 1] > 0):    \n",
        "      print(\" -> \" + c)\n",
        "      new_clause[j] = -variaveis[c]\n",
        "      j += 1\n",
        "\n",
        "    else:\n",
        "      print(\" -> não \" + c)\n",
        "      new_clause[j] = variaveis[c]\n",
        "      j += 1\n",
        "\n",
        "  s.add_clause(new_clause)\n",
        "  i += 1\n",
        "\n",
        "\n",
        "print(\"\\nSem mais soluções\\n\")\n",
        "s.delete()"
      ],
      "execution_count": null,
      "outputs": [
        {
          "output_type": "stream",
          "name": "stdout",
          "text": [
            "\n",
            "Solução 1\n",
            "[1, 2, -3, 4, -5]\n",
            " -> tem bigode\n",
            " -> é casado\n",
            " -> não é de Ribeirão\n",
            " -> usa camisola amarela\n",
            " -> não assiste jogos aos domingos\n",
            "\n",
            "Sem mais soluções\n",
            "\n"
          ]
        }
      ]
    }
  ]
}